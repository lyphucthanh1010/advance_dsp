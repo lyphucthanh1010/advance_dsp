{
 "cells": [
  {
   "cell_type": "code",
   "execution_count": 1,
   "metadata": {},
   "outputs": [],
   "source": [
    "import os\n",
    "import json\n",
    "import numpy as np\n",
    "from multiprocessing import Pool\n",
    "from sklearn.model_selection import train_test_split\n",
    "from tensorflow.keras.utils import to_categorical\n",
    "from tensorflow.keras.models import Sequential\n",
    "from tensorflow.keras.layers import Input, Conv2D, BatchNormalization, Activation, MaxPooling2D, Dropout, Flatten, Dense\n",
    "import tensorflow as tf\n"
   ]
  },
  {
   "cell_type": "code",
   "execution_count": 2,
   "metadata": {},
   "outputs": [],
   "source": [
    "chromaprints_dir = \"music_dataset_chromaprints\"  # Giữ nguyên đường dẫn cũ\n",
    "os.environ[\"CUDA_VISIBLE_DEVICES\"] = \"-1\""
   ]
  },
  {
   "cell_type": "code",
   "execution_count": 3,
   "metadata": {},
   "outputs": [],
   "source": [
    "def load_json_file(file_path):\n",
    "    \"\"\"\n",
    "    Load file JSON, trích xuất key \"chromaprints\" và lấy nhãn từ cấu trúc thư mục.\n",
    "    Ta giữ nguyên ma trận đặc trưng (không tính trung bình).\n",
    "    Nếu thành công, trả về tuple (features, label).\n",
    "    \"\"\"\n",
    "    try:\n",
    "        with open(file_path, \"r\", encoding=\"utf-8\") as f:\n",
    "            data = json.load(f)\n",
    "        chromaprints = data.get(\"chromaprints\", None)\n",
    "        # Lấy nhãn từ cấu trúc thư mục: folder con đầu tiên của đường dẫn tương đối\n",
    "        relative_path = os.path.relpath(file_path, chromaprints_dir)\n",
    "        parts = relative_path.split(os.sep)\n",
    "        label = parts[0] if parts else None\n",
    "        if chromaprints is not None and label is not None:\n",
    "            feat = np.array(chromaprints)\n",
    "            return (feat, label)\n",
    "    except Exception as e:\n",
    "        print(f\"Error loading {file_path}: {e}\")\n",
    "    return None"
   ]
  },
  {
   "cell_type": "code",
   "execution_count": null,
   "metadata": {},
   "outputs": [
    {
     "name": "stdout",
     "output_type": "stream",
     "text": [
      "Total JSON files found: 214838\n"
     ]
    }
   ],
   "source": [
    "json_files = []\n",
    "for root, dirs, files in os.walk(chromaprints_dir):\n",
    "    for file in files:\n",
    "        if file.lower().endswith(\".json\"):\n",
    "            json_files.append(os.path.join(root, file))\n",
    "print(\"Total JSON files found:\", len(json_files))\n",
    "\n",
    "with Pool() as pool:\n",
    "    results = pool.map(load_json_file, json_files)\n",
    "results = [r for r in results if r is not None]\n",
    "features_list = [r[0] for r in results]\n",
    "labels_list = [r[1] for r in results]\n",
    "print(\"Total JSON files loaded:\", len(features_list))"
   ]
  },
  {
   "cell_type": "code",
   "execution_count": null,
   "metadata": {},
   "outputs": [],
   "source": []
  },
  {
   "cell_type": "code",
   "execution_count": null,
   "metadata": {},
   "outputs": [],
   "source": []
  }
 ],
 "metadata": {
  "kernelspec": {
   "display_name": "Python 3",
   "language": "python",
   "name": "python3"
  },
  "language_info": {
   "codemirror_mode": {
    "name": "ipython",
    "version": 3
   },
   "file_extension": ".py",
   "mimetype": "text/x-python",
   "name": "python",
   "nbconvert_exporter": "python",
   "pygments_lexer": "ipython3",
   "version": "3.11.9"
  }
 },
 "nbformat": 4,
 "nbformat_minor": 2
}
